{
  "nbformat": 4,
  "nbformat_minor": 0,
  "metadata": {
    "colab": {
      "provenance": [],
      "authorship_tag": "ABX9TyMepqfGaaJKN9E+2A2157z6",
      "include_colab_link": true
    },
    "kernelspec": {
      "name": "python3",
      "display_name": "Python 3"
    },
    "language_info": {
      "name": "python"
    }
  },
  "cells": [
    {
      "cell_type": "markdown",
      "metadata": {
        "id": "view-in-github",
        "colab_type": "text"
      },
      "source": [
        "<a href=\"https://colab.research.google.com/github/yungchi0829/0308/blob/main/Untitled12.ipynb\" target=\"_parent\"><img src=\"https://colab.research.google.com/assets/colab-badge.svg\" alt=\"Open In Colab\"/></a>"
      ]
    },
    {
      "cell_type": "code",
      "source": [
        "print('0515')"
      ],
      "metadata": {
        "colab": {
          "base_uri": "https://localhost:8080/"
        },
        "id": "8CGYuIQgXv0-",
        "outputId": "1e09f841-e071-4c91-eaf4-30ce3f613fc6"
      },
      "execution_count": 3,
      "outputs": [
        {
          "output_type": "stream",
          "name": "stdout",
          "text": [
            "0515\n"
          ]
        }
      ]
    },
    {
      "cell_type": "code",
      "execution_count": 10,
      "metadata": {
        "colab": {
          "base_uri": "https://localhost:8080/"
        },
        "id": "tROYHpaPWlcv",
        "outputId": "e5560f1d-8b34-447d-d0bf-e9da0679d87c"
      },
      "outputs": [
        {
          "output_type": "stream",
          "name": "stdout",
          "text": [
            "score:５０\n",
            "Grade is: F\n"
          ]
        }
      ],
      "source": [
        "score = int(input(\"score:\"))\n",
        "if score >= 90:\n",
        "  print ('Grade is: A')\n",
        "elif score >= 80:\n",
        "  print ('Grade is: B')\n",
        "elif score >= 70:\n",
        "  print ('Grade is: C')\n",
        "elif score >= 60:\n",
        "  print ('Grade is: D')\n",
        "else:\n",
        "  print ('Grade is: F')\n"
      ]
    },
    {
      "cell_type": "code",
      "source": [
        "score = int(input(\"score:\"))\n",
        "if score >= 90:\n",
        "  print ('Grade is: A')\n",
        "elif score >= 80:\n",
        "  print ('Grade is: B')\n",
        "elif score >= 70:\n",
        "  print ('Grade is: C')\n",
        "elif score >= 60:\n",
        "  print ('Grade is: D')\n",
        "else:\n",
        "  print ('Grade is: E') "
      ],
      "metadata": {
        "colab": {
          "base_uri": "https://localhost:8080/"
        },
        "id": "xveFxKNtac27",
        "outputId": "07aba527-8401-4772-af98-d01912ba7bea"
      },
      "execution_count": 11,
      "outputs": [
        {
          "output_type": "stream",
          "name": "stdout",
          "text": [
            "score:９０\n",
            "Grade is: A\n"
          ]
        }
      ]
    },
    {
      "cell_type": "code",
      "source": [
        "體溫 = int(input(\"體溫:\"))\n",
        "if 體溫 >= 37.5:\n",
        "  print ('體溫過高!')\n",
        "elif 體溫 >= 37:\n",
        "  print ('體溫略高!')\n",
        "elif 體溫 >= 34:\n",
        "  print ('體溫正常!')\n",
        "else:\n",
        "  print ('體溫異常，請重新測量!') "
      ],
      "metadata": {
        "colab": {
          "base_uri": "https://localhost:8080/"
        },
        "id": "EQ8N8RAhXg2c",
        "outputId": "747f804f-88c2-4978-ba61-defaaead41cc"
      },
      "execution_count": 7,
      "outputs": [
        {
          "output_type": "stream",
          "name": "stdout",
          "text": [
            "體溫:35\n",
            "體溫正常!\n"
          ]
        }
      ]
    },
    {
      "cell_type": "code",
      "source": [],
      "metadata": {
        "id": "2_FhY-I-etnB"
      },
      "execution_count": null,
      "outputs": []
    },
    {
      "cell_type": "code",
      "source": [
        "月份 = int(input(\"月份:\"))\n",
        "if 月份 >=3 and 月份 <=5:\n",
        "  print ('春天')\n",
        "elif 月份 >=6 and 月份 <=8:\n",
        "  print ('夏天')\n",
        "elif 月份 >=9 and 月份 <=11:\n",
        "  print ('秋天')\n",
        "elif 月份 ==12 or (月份 >=1 and 月份 <=2):\n",
        "  print ('冬天')\n",
        "else:\n",
        "  print ('月份不再範圍內!') "
      ],
      "metadata": {
        "colab": {
          "base_uri": "https://localhost:8080/"
        },
        "id": "LrxLjCimZN3W",
        "outputId": "06a44131-30f7-4b7e-92c3-acbae8795392"
      },
      "execution_count": 15,
      "outputs": [
        {
          "output_type": "stream",
          "name": "stdout",
          "text": [
            "月份:3\n",
            "春天\n"
          ]
        }
      ]
    },
    {
      "cell_type": "code",
      "source": [
        "請輸入年收入淨額 = int(input(\"請輸入年收入淨額:\"))\n",
        "if 請輸入年收入淨額 >= 2000000:\n",
        "  print ('付稅金額:' ,請輸入年收入淨額 * 0.3,'元')\n",
        "elif 請輸入年收入淨額 >= 1000000:\n",
        "  print ('付稅金額:' ,請輸入年收入淨額* 0.21,'元')\n",
        "elif 請輸入年收入淨額 >= 600000:\n",
        "  print ('付稅金額:' ,請輸入年收入淨額* 0.13,'元')\n",
        "elif 請輸入年收入淨額 >= 300000:\n",
        "  print ('付稅金額:' ,請輸入年收入淨額* 0.06,'元')\n",
        "else:\n",
        "  print ('無須繳稅')"
      ],
      "metadata": {
        "colab": {
          "base_uri": "https://localhost:8080/"
        },
        "id": "7jdcgkT_bdYk",
        "outputId": "05bac183-7e92-4156-8ebf-1e377896a102"
      },
      "execution_count": 25,
      "outputs": [
        {
          "output_type": "stream",
          "name": "stdout",
          "text": [
            "請輸入年收入淨額:500000\n",
            "付稅金額: 30000.0 元\n"
          ]
        }
      ]
    },
    {
      "cell_type": "code",
      "source": [],
      "metadata": {
        "id": "r4tHuCNCcDWT"
      },
      "execution_count": 9,
      "outputs": []
    }
  ]
}